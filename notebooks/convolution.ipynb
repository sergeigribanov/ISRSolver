{
 "cells": [
  {
   "cell_type": "code",
   "execution_count": null,
   "id": "c7c8495a",
   "metadata": {},
   "outputs": [],
   "source": [
    "import numpy as np\n",
    "from ROOT import TFile\n",
    "from PyISR import kernelKuraevFadin, convolutionKuraevFadin\n",
    "import matplotlib\n",
    "import matplotlib.pyplot as plt\n",
    "import mplhep as hep\n",
    "plt.style.use(hep.style.CMS)\n",
    "matplotlib.rcParams['text.usetex'] = True\n",
    "matplotlib.rcParams['font.sans-serif'] = ['Tahoma', 'DejaVu Sans',\n",
    "                                          'Lucida Grande', 'Verdana']"
   ]
  },
  {
   "cell_type": "code",
   "execution_count": null,
   "id": "5fd43e63",
   "metadata": {},
   "outputs": [],
   "source": [
    "%%javascript\n",
    "IPython.OutputArea.prototype._should_scroll = function(lines) {\n",
    "    return false;\n",
    "}"
   ]
  },
  {
   "cell_type": "code",
   "execution_count": null,
   "id": "4858279c",
   "metadata": {},
   "outputs": [],
   "source": [
    "%matplotlib inline"
   ]
  },
  {
   "cell_type": "markdown",
   "id": "9f92fccd",
   "metadata": {},
   "source": [
    "## Kernel plot\n",
    "This section demonstrates how to get the kernel $F(x, s)$ values in the ```ISRSolver``` Python API: ```PyISR```."
   ]
  },
  {
   "cell_type": "code",
   "execution_count": null,
   "id": "e9bd6145",
   "metadata": {},
   "outputs": [],
   "source": [
    "# Preparing array of x values\n",
    "vx = np.linspace(1.e-9, 0.8, 10000)\n",
    "# s = (center-of-mass energy in GeV)^2\n",
    "s = 1.\n",
    "# Preparing array of F(x, s = 1 GeV^2) values\n",
    "vy = np.vectorize(lambda x: kernelKuraevFadin(x, s))(vx)"
   ]
  },
  {
   "cell_type": "code",
   "execution_count": null,
   "id": "b360179a",
   "metadata": {
    "scrolled": true
   },
   "outputs": [],
   "source": [
    "# Kernel plot\n",
    "f, ax = plt.subplots(figsize=(9, 7))\n",
    "fontsize = 24\n",
    "ax.tick_params(axis='both', which='major', labelsize=fontsize)\n",
    "ax.plot(vx, vy, 'r-', zorder=0)\n",
    "ax.set_yscale('log')\n",
    "ax.set_xlabel(r'$x$', fontsize=fontsize)\n",
    "ax.set_ylabel(r'$F(x, s=1\\;{\\rm GeV}^2)$', fontsize=fontsize)"
   ]
  },
  {
   "cell_type": "markdown",
   "id": "33767c27",
   "metadata": {},
   "source": [
    "## Convolution of the $e^+e^-\\rightarrow\\eta\\pi^+\\pi^-$ cross section with the krenel $F(x, s)$\n",
    "This section demonstrates the convolution of the $e^+e^-\\rightarrow\\eta\\pi^+\\pi^-$ Born cross section (VMD, $\\rho,\\rho^{\\prime}\\rightarrow\\eta\\rho$) with the kernel function $F(x, s)$."
   ]
  },
  {
   "cell_type": "code",
   "execution_count": null,
   "id": "280cd64c",
   "metadata": {},
   "outputs": [],
   "source": [
    "# Opening the file containing the model cross section\n",
    "fl = TFile.Open('data/born_cs_etapipi_simple_model.root', 'read')\n",
    "# Extractin the model cross section\n",
    "rfcn = fl.Get('f_bcs')\n",
    "# Threshold energy square\n",
    "s_t = 0.827\n",
    "# Number of points used to plot cross sections\n",
    "Npt = 1000\n",
    "# Vector of center-of-mass energy values\n",
    "vecm = np.linspace(1.18, 2., Npt)\n",
    "# The Born cross section function\n",
    "fbcs = lambda ecm: rfcn.Eval(ecm)\n",
    "# Vector of Born cross section values\n",
    "vbcs = np.vectorize(fbcs)(vecm)\n",
    "# Vector of visible cross section values\n",
    "vvcs = np.vectorize(lambda ecm: convolutionKuraevFadin(ecm, fbcs, 0, 1 - s_t / ecm / ecm))(vecm)\n",
    "# Closing the file\n",
    "fl.Close()"
   ]
  },
  {
   "cell_type": "code",
   "execution_count": null,
   "id": "ba6cfb52",
   "metadata": {},
   "outputs": [],
   "source": [
    "# Cross section plot\n",
    "f, ax = plt.subplots(figsize=(9, 7))\n",
    "ax.plot(vecm, vbcs, 'r-', label='Model Born cross section', zorder=0)\n",
    "ax.plot(vecm, vvcs, 'b--', label='Model visible cross section', zorder=1)\n",
    "ax.set_xlabel(r'$\\sqrt{s}$ (GeV)', fontsize=fontsize)\n",
    "ax.set_ylabel('cross section (nb)', fontsize=fontsize)\n",
    "ax.legend(fontsize=fontsize)"
   ]
  }
 ],
 "metadata": {
  "kernelspec": {
   "display_name": "Python 3 (ipykernel)",
   "language": "python",
   "name": "python3"
  },
  "language_info": {
   "codemirror_mode": {
    "name": "ipython",
    "version": 3
   },
   "file_extension": ".py",
   "mimetype": "text/x-python",
   "name": "python",
   "nbconvert_exporter": "python",
   "pygments_lexer": "ipython3",
   "version": "3.9.6"
  }
 },
 "nbformat": 4,
 "nbformat_minor": 5
}
