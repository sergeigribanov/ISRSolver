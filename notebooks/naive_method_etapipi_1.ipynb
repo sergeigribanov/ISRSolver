{
 "cells": [
  {
   "cell_type": "markdown",
   "id": "500458de",
   "metadata": {},
   "source": [
    "# Naive method\n",
    "In this notebook we obtain the $e^+e^-\\rightarrow\\eta\\pi^+\\pi^-$ Born cross section using the naive method. Visible cross section data is generated using the model Born crosection. Here we consider only a relatively simple model $\\rho(770),\\,\\rho(1450)\\rightarrow\\eta\\rho(770)$. The statistical uncertainties of the generated visible cross section are proportional to the square roots of the cross section values. In this notebook, the following parameters are constant:\n",
    "- $50$ equidistant c.m. energy points, \n",
    "- $\\varepsilon(x,s)=1$,\n",
    "- piecewise linear interpolation of unknown values of the Born section is used."
   ]
  },
  {
   "cell_type": "code",
   "execution_count": null,
   "id": "1f49bdca",
   "metadata": {
    "scrolled": true
   },
   "outputs": [],
   "source": [
    "import numpy as np\n",
    "import json\n",
    "import seaborn as sns\n",
    "from PyISR import ISRSolverSLE\n",
    "from ROOT import TFile\n",
    "import matplotlib\n",
    "import matplotlib.pyplot as plt\n",
    "import mplhep as hep\n",
    "plt.style.use(hep.style.CMS)\n",
    "matplotlib.rcParams['text.usetex'] = True\n",
    "matplotlib.rcParams['font.sans-serif'] = ['Tahoma', 'DejaVu Sans',\n",
    "                                          'Lucida Grande', 'Verdana']"
   ]
  },
  {
   "cell_type": "markdown",
   "id": "fe19a618",
   "metadata": {},
   "source": [
    "Remove scrolling:"
   ]
  },
  {
   "cell_type": "code",
   "execution_count": null,
   "id": "e98f252e",
   "metadata": {},
   "outputs": [],
   "source": [
    "%%javascript\n",
    "IPython.OutputArea.prototype._should_scroll = function(lines) {\n",
    "    return false;\n",
    "}"
   ]
  },
  {
   "cell_type": "code",
   "execution_count": null,
   "id": "289951bb",
   "metadata": {},
   "outputs": [],
   "source": [
    "%matplotlib inline"
   ]
  },
  {
   "cell_type": "markdown",
   "id": "86dae7ba",
   "metadata": {},
   "source": [
    "Saving the current Matplotlib style:"
   ]
  },
  {
   "cell_type": "code",
   "execution_count": null,
   "id": "743af5a2",
   "metadata": {},
   "outputs": [],
   "source": [
    "# Current Matplotlib style parameters\n",
    "mplStyleParams = dict(matplotlib.rcParams)\n",
    "# Deprecated parameters\n",
    "deprecatedParams = ['animation.avconv_args', 'animation.avconv_path', \n",
    "                    'animation.html_args', 'keymap.all_axes',\n",
    "                   'savefig.jpeg_quality', 'text.latex.preview']\n",
    "# Remove deprecated parameters in oder to avoid warnings\n",
    "_ = list(map(lambda key : mplStyleParams.pop(key, None), deprecatedParams))"
   ]
  },
  {
   "cell_type": "markdown",
   "id": "c03f6fe2",
   "metadata": {},
   "source": [
    "Function for reading visible cross section data:"
   ]
  },
  {
   "cell_type": "code",
   "execution_count": null,
   "id": "2cc82d09",
   "metadata": {},
   "outputs": [],
   "source": [
    "def readVCS(path):\n",
    "    fl = TFile.Open(path, \"read\")\n",
    "    # Getting a pointer to the visible cross section in the form of TGraphErrors\n",
    "    gvcs = fl.Get('vcs')\n",
    "    # Number of c.m. energy points\n",
    "    n = gvcs.GetN()\n",
    "    # Reading c.m. energy array\n",
    "    energy = np.frombuffer(gvcs.GetX(), dtype=np.float64, count=n)\n",
    "    # Reading array of c.m. energy errors\n",
    "    energyErr = np.frombuffer(gvcs.GetEX(), dtype=np.float64, count=n)\n",
    "    # Reading visible cross section array\n",
    "    vcs = np.frombuffer(gvcs.GetY(), dtype=np.float64, count=n)\n",
    "    # Reading array of visible cross section errors\n",
    "    vcsErr = np.frombuffer(gvcs.GetEY(), dtype=np.float64, count=n)\n",
    "    fl.Close()\n",
    "    return energy, vcs, energyErr, vcsErr"
   ]
  },
  {
   "cell_type": "markdown",
   "id": "1d6cd919",
   "metadata": {},
   "source": [
    "Function for obtaining numerical solution:"
   ]
  },
  {
   "cell_type": "code",
   "execution_count": null,
   "id": "bf3c4de3",
   "metadata": {},
   "outputs": [],
   "source": [
    "def solve(energy, vcs, energyErr, vcsErr, \n",
    "          enabled_energy_spread=False, \n",
    "          threshold_energy=0.827, \n",
    "          interp_path=None,\n",
    "          efficiency=lambda x, en: 1.0):\n",
    "    n = energy.shape[0]\n",
    "    solver = ISRSolverSLE(n, energy, vcs, \n",
    "                          energyErr, vcsErr, \n",
    "                          threshold_energy, efficiency,\n",
    "                          enabled_energy_spread)\n",
    "    if type(interp_path) == str:\n",
    "        with open(interp_path, 'r') as jfl:\n",
    "            settings = json.load(jfl)\n",
    "            \n",
    "        solver.set_interp_settings(settings)\n",
    "    \n",
    "    solver.solve()\n",
    "    return solver"
   ]
  },
  {
   "cell_type": "markdown",
   "id": "6683f4cb",
   "metadata": {},
   "source": [
    "Function for cross section plotting:"
   ]
  },
  {
   "cell_type": "code",
   "execution_count": null,
   "id": "d12802cc",
   "metadata": {},
   "outputs": [],
   "source": [
    "def csPlot(solver, title='Cross sections', fontsize=24):\n",
    "    # Getting c.m. energy array\n",
    "    ecm = solver.ecm()\n",
    "    matplotlib.rcParams.update(mplStyleParams)\n",
    "    f, ax = plt.subplots(figsize=(9, 7))\n",
    "    f.suptitle(title, fontsize=fontsize)\n",
    "    ax.tick_params(axis='both', which='major', labelsize=fontsize)\n",
    "    ax.errorbar(ecm, solver.vcs(), \n",
    "                xerr=solver.ecm_err(),\n",
    "                yerr=solver.vcs_err(), fmt='o', \n",
    "                label='Visible cross section', zorder=0)\n",
    "    ax.errorbar(ecm, solver.bcs(), yerr=np.sqrt(np.diag(solver.bcs_cov_matrix())), fmt='o', \n",
    "                label='Born cross section', zorder=1)\n",
    "    ax.set_xlabel(r'$\\sqrt{s}$ (GeV)', fontsize=fontsize)\n",
    "    ax.set_ylabel('cross section (nb)', fontsize=fontsize)\n",
    "    ax.legend(fontsize=24)"
   ]
  },
  {
   "cell_type": "markdown",
   "id": "d778017d",
   "metadata": {},
   "source": [
    "Function for plotting matrices:"
   ]
  },
  {
   "cell_type": "code",
   "execution_count": null,
   "id": "a3745378",
   "metadata": {},
   "outputs": [],
   "source": [
    "def matrixPlot(mx, title='', fontsize=24, fontscale=2.0):\n",
    "    sns.set(font_scale=fontscale)\n",
    "    f, ax = plt.subplots(figsize=(9, 7))\n",
    "    f.suptitle(title, fontsize=fontsize)\n",
    "    ax.tick_params(axis='both', which='major', labelsize=fontsize)\n",
    "    sns.heatmap(mx, ax=ax, square=True)"
   ]
  },
  {
   "cell_type": "markdown",
   "id": "f0eda5a0",
   "metadata": {},
   "source": [
    "## No c.m. energy spread: $\\sigma_E(s)=0$ MeV"
   ]
  },
  {
   "cell_type": "code",
   "execution_count": null,
   "id": "f33677a6",
   "metadata": {
    "scrolled": false
   },
   "outputs": [],
   "source": [
    "input_path = 'data/gen_visible_cs_etapipi_simple_model_no_energy_spread.root'\n",
    "solver = solve(*readVCS(input_path))\n",
    "csPlot(solver)\n",
    "matrixPlot(solver.intop_matrix(), title=r'Matrix of the system of linear equations, $\\hat{\\mathcal{F}}$')\n",
    "matrixPlot(solver.bcs_cov_matrix(), title=r'Covariance matrix of the Born cross section')\n",
    "matrixPlot(solver.bcs_inv_cov_matrix(), title=r'Inverse covariance matrix of the Born cross section')"
   ]
  },
  {
   "cell_type": "markdown",
   "id": "e6832a50",
   "metadata": {},
   "source": [
    "## $\\sigma_E(s)=2$ MeV"
   ]
  },
  {
   "cell_type": "code",
   "execution_count": null,
   "id": "2d0bdebf",
   "metadata": {
    "scrolled": true
   },
   "outputs": [],
   "source": [
    "input_path = 'data/gen_visible_cs_etapipi_simple_model_energy_spread_2MeV.root'\n",
    "solver = solve(*readVCS(input_path), enabled_energy_spread=True)\n",
    "csPlot(solver)\n",
    "matrixPlot(solver.intop_matrix(), title=r'Matrix of the system of linear equations, $\\hat{\\mathcal{G}}\\hat{\\mathcal{F}}$')\n",
    "matrixPlot(solver.bcs_cov_matrix(), title=r'Covariance matrix of the Born cross section')"
   ]
  },
  {
   "cell_type": "markdown",
   "id": "e06a4739",
   "metadata": {},
   "source": [
    "## $\\sigma_E(s)=5$ MeV"
   ]
  },
  {
   "cell_type": "code",
   "execution_count": null,
   "id": "60b13b43",
   "metadata": {},
   "outputs": [],
   "source": [
    "input_path = 'data/gen_visible_cs_etapipi_simple_model_energy_spread_5MeV.root'\n",
    "solver = solve(*readVCS(input_path), enabled_energy_spread=True)\n",
    "csPlot(solver)\n",
    "matrixPlot(solver.intop_matrix(), title=r'Vatrix of the system of linear equations, $\\hat{\\mathcal{G}}\\hat{\\mathcal{F}}$')\n",
    "matrixPlot(solver.bcs_cov_matrix(), title=r'Covariance matrix of the Born cross section')"
   ]
  },
  {
   "cell_type": "markdown",
   "id": "a46f480b",
   "metadata": {},
   "source": [
    "## $\\sigma_E(s) = 10$ MeV"
   ]
  },
  {
   "cell_type": "code",
   "execution_count": null,
   "id": "388dd85a",
   "metadata": {
    "scrolled": true
   },
   "outputs": [],
   "source": [
    "input_path = 'data/gen_visible_cs_etapipi_simple_model_energy_spread_10MeV.root'\n",
    "solver = solve(*readVCS(input_path), enabled_energy_spread=True)\n",
    "csPlot(solver)\n",
    "matrixPlot(solver.intop_matrix(), title=r'Matrix of the system of linear equations, $\\hat{\\mathcal{G}}\\hat{\\mathcal{F}}$')\n",
    "matrixPlot(solver.bcs_cov_matrix(), title=r'Covariance matrix of the Born cross section')"
   ]
  },
  {
   "cell_type": "markdown",
   "id": "48dffd3f",
   "metadata": {},
   "source": [
    "## $\\sigma_E(s) = 20$ MeV"
   ]
  },
  {
   "cell_type": "code",
   "execution_count": null,
   "id": "3e95814c",
   "metadata": {
    "scrolled": false
   },
   "outputs": [],
   "source": [
    "input_path = 'data/gen_visible_cs_etapipi_simple_model_energy_spread_20MeV.root'\n",
    "solver = solve(*readVCS(input_path), enabled_energy_spread=True)\n",
    "csPlot(solver)\n",
    "matrixPlot(solver.intop_matrix(), title=r'Matrix of the system of linear equations, $\\hat{\\mathcal{G}}\\hat{\\mathcal{F}}$')\n",
    "matrixPlot(solver.bcs_cov_matrix(), title='Covariance matrix of the Born cross section')"
   ]
  },
  {
   "cell_type": "markdown",
   "id": "5ac472e9",
   "metadata": {},
   "source": [
    "## $\\sigma_E(s)=50$ MeV"
   ]
  },
  {
   "cell_type": "code",
   "execution_count": null,
   "id": "e1b3d27e",
   "metadata": {},
   "outputs": [],
   "source": [
    "input_path = 'data/gen_visible_cs_etapipi_simple_model_energy_spread_50MeV.root'\n",
    "solver = solve(*readVCS(input_path), enabled_energy_spread=True)\n",
    "csPlot(solver)\n",
    "matrixPlot(solver.intop_matrix(), title=r'Matrix of the system of linear equations, $\\hat{\\mathcal{G}}\\hat{\\mathcal{F}}$')\n",
    "matrixPlot(solver.bcs_cov_matrix(), title='Covariance matrix of the Born cross section')"
   ]
  }
 ],
 "metadata": {
  "kernelspec": {
   "display_name": "Python 3 (ipykernel)",
   "language": "python",
   "name": "python3"
  },
  "language_info": {
   "codemirror_mode": {
    "name": "ipython",
    "version": 3
   },
   "file_extension": ".py",
   "mimetype": "text/x-python",
   "name": "python",
   "nbconvert_exporter": "python",
   "pygments_lexer": "ipython3",
   "version": "3.9.6"
  }
 },
 "nbformat": 4,
 "nbformat_minor": 5
}
