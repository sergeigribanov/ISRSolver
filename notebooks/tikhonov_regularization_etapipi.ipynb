{
 "cells": [
  {
   "cell_type": "markdown",
   "id": "930be91f",
   "metadata": {},
   "source": [
    "# Tikhonov regularization, $e^+e^-\\rightarrow\\eta\\pi^+\\pi^-$ (1)\n",
    "In this notebook we obtain the $e^+e^-\\rightarrow\\eta\\pi^+\\pi^-$ Born cross section using the ***Tikhonov regularization method***. Visible cross section data is generated using the model Born crosection. Here we consider only a relatively simple model $\\rho(770),\\,\\rho(1450)\\rightarrow\\eta\\rho(770)$. The statistical uncertainties of the generated visible cross section are proportional to the square roots of the cross section values. In this notebook, the following parameters are constant:\n",
    "- $50$ equidistant c.m. energy points, \n",
    "- $\\varepsilon(x,s)=1$.\n",
    "\n",
    "Regularization leads to a biased numerical solution, so the covariance matrix of the Born cross section is incorrect."
   ]
  },
  {
   "cell_type": "code",
   "execution_count": null,
   "id": "68e1b478",
   "metadata": {},
   "outputs": [],
   "source": [
    "import numpy as np\n",
    "import json\n",
    "import seaborn as sns\n",
    "from PyISR import ISRSolverTikhonov\n",
    "from ROOT import TFile\n",
    "import matplotlib\n",
    "import matplotlib.pyplot as plt\n",
    "import mplhep as hep\n",
    "plt.style.use(hep.style.CMS)\n",
    "matplotlib.rcParams['text.usetex'] = True\n",
    "matplotlib.rcParams['font.sans-serif'] = ['Tahoma', 'DejaVu Sans',\n",
    "                                          'Lucida Grande', 'Verdana']"
   ]
  },
  {
   "cell_type": "markdown",
   "id": "b95d4b65",
   "metadata": {},
   "source": [
    "Remove scrolling:"
   ]
  },
  {
   "cell_type": "code",
   "execution_count": null,
   "id": "d626f66c",
   "metadata": {},
   "outputs": [],
   "source": [
    "%%javascript\n",
    "IPython.OutputArea.prototype._should_scroll = function(lines) {\n",
    "    return false;\n",
    "}"
   ]
  },
  {
   "cell_type": "code",
   "execution_count": null,
   "id": "6403023f",
   "metadata": {},
   "outputs": [],
   "source": [
    "%matplotlib inline"
   ]
  },
  {
   "cell_type": "markdown",
   "id": "010079f5",
   "metadata": {},
   "source": [
    "Loading the model Born cross section"
   ]
  },
  {
   "cell_type": "code",
   "execution_count": null,
   "id": "d642286d",
   "metadata": {},
   "outputs": [],
   "source": [
    "# Opening the file containing the model cross section\n",
    "fl = TFile.Open('data/born_cs_etapipi_simple_model.root', 'read')\n",
    "# Cloning the model cross section function\n",
    "mBCsFcn = fl.Get('f_bcs').Clone()\n",
    "# Vectorizing the model Born cross section function\n",
    "mBCsVFcn = np.vectorize(lambda en: mBCsFcn.Eval(en))\n",
    "# Closing the file\n",
    "fl.Close()"
   ]
  },
  {
   "cell_type": "markdown",
   "id": "ffb25ecc",
   "metadata": {},
   "source": [
    "Saving the current Matplotlib style:"
   ]
  },
  {
   "cell_type": "code",
   "execution_count": null,
   "id": "618d6438",
   "metadata": {},
   "outputs": [],
   "source": [
    "# Current Matplotlib style parameters\n",
    "mplStyleParams = dict(matplotlib.rcParams)\n",
    "# Deprecated parameters\n",
    "deprecatedParams = ['animation.avconv_args', 'animation.avconv_path', \n",
    "                    'animation.html_args', 'keymap.all_axes',\n",
    "                   'savefig.jpeg_quality', 'text.latex.preview']\n",
    "# Remove deprecated parameters in oder to avoid warnings\n",
    "_ = list(map(lambda key : mplStyleParams.pop(key, None), deprecatedParams))"
   ]
  },
  {
   "cell_type": "markdown",
   "id": "fdfbb811",
   "metadata": {},
   "source": [
    "Function for reading visible cross section data:"
   ]
  },
  {
   "cell_type": "code",
   "execution_count": null,
   "id": "252f8dde",
   "metadata": {},
   "outputs": [],
   "source": [
    "def readVCS(path):\n",
    "    fl = TFile.Open(path, \"read\")\n",
    "    # Getting a pointer to the visible cross section in the form of TGraphErrors\n",
    "    gvcs = fl.Get('vcs')\n",
    "    # Number of c.m. energy points\n",
    "    n = gvcs.GetN()\n",
    "    # Reading c.m. energy array\n",
    "    energy = np.frombuffer(gvcs.GetX(), dtype=np.float64, count=n)\n",
    "    # Reading array of c.m. energy errors\n",
    "    energyErr = np.frombuffer(gvcs.GetEX(), dtype=np.float64, count=n)\n",
    "    # Reading visible cross section array\n",
    "    vcs = np.frombuffer(gvcs.GetY(), dtype=np.float64, count=n)\n",
    "    # Reading array of visible cross section errors\n",
    "    vcsErr = np.frombuffer(gvcs.GetEY(), dtype=np.float64, count=n)\n",
    "    fl.Close()\n",
    "    return energy, vcs, energyErr, vcsErr"
   ]
  },
  {
   "cell_type": "markdown",
   "id": "dac1aa06",
   "metadata": {},
   "source": [
    "Function for obtaining numerical solution:"
   ]
  },
  {
   "cell_type": "code",
   "execution_count": null,
   "id": "9a8b9afa",
   "metadata": {},
   "outputs": [],
   "source": [
    "def solve(energy, vcs, energyErr, vcsErr, \n",
    "          enabled_energy_spread=False, \n",
    "          threshold_energy=0.827,\n",
    "          reg_param = 0.,\n",
    "          lcurve=False,\n",
    "          interp=None,\n",
    "          efficiency=lambda x, en: 1.0):\n",
    "    n = energy.shape[0]\n",
    "    solver = ISRSolverTikhonov(n, energy, vcs, \n",
    "                              energyErr, vcsErr, \n",
    "                              threshold_energy, efficiency,\n",
    "                              enabled_energy_spread)\n",
    "    if type(interp) == str:\n",
    "        with open(interp, 'r') as jfl:\n",
    "            settings = json.load(jfl)\n",
    "        \n",
    "        print('Interpolation settings:')\n",
    "        print(settings)\n",
    "        solver.set_interp_settings(settings)\n",
    "    elif type(interp) == list:\n",
    "        print('Interpolation settings:')\n",
    "        print(interp)\n",
    "        solver.set_interp_settings(interp)\n",
    "    \n",
    "    if lcurve:\n",
    "        solver.solve_LCurve(reg_param)\n",
    "    else:\n",
    "        solver.reg_param = reg_param\n",
    "        solver.solve()\n",
    "        \n",
    "    return solver"
   ]
  },
  {
   "cell_type": "markdown",
   "id": "62636918",
   "metadata": {},
   "source": [
    "Function for cross section plotting:"
   ]
  },
  {
   "cell_type": "code",
   "execution_count": null,
   "id": "ddaf4bfd",
   "metadata": {},
   "outputs": [],
   "source": [
    "def csPlot(solver, title='Cross sections', fontsize=24):\n",
    "    # Getting c.m. energy array\n",
    "    ecm = solver.ecm()\n",
    "    matplotlib.rcParams.update(mplStyleParams)\n",
    "    f, (ax0, ax1) = plt.subplots(2, 1, gridspec_kw={'height_ratios': [3, 1]}, sharex=True,\n",
    "                                figsize=(9, 10))\n",
    "    f.suptitle(title, fontsize=fontsize)\n",
    "    ax1.tick_params(axis='both', which='major', labelsize=fontsize)\n",
    "    ecm_dense = np.linspace(np.min(ecm), np.max(ecm), ecm.shape[0] * 20)\n",
    "    interp = np.vectorize(lambda en: solver.interp_eval(en))(ecm_dense)\n",
    "    ax0.errorbar(ecm, solver.vcs(), \n",
    "                xerr=solver.ecm_err(),\n",
    "                yerr=solver.vcs_err(), fmt='o',\n",
    "                markersize=5, capsize=3,\n",
    "                label='Visible cross section', zorder=0)\n",
    "    bcs_err = yerr=np.sqrt(np.diag(solver.bcs_cov_matrix()))\n",
    "    ax0.errorbar(ecm, solver.bcs(), yerr=bcs_err, fmt='o',\n",
    "                 markersize=5, capsize=3,\n",
    "                label='Born cross section', zorder=1)\n",
    "    ax0.plot(ecm_dense, interp, 'b--', label='Interpolation of the Born cross section', zorder=2)\n",
    "    ax0.plot(ecm_dense, mBCsVFcn(ecm_dense), 'r-', label='Model Born cross section', zorder=3)\n",
    "    mBCs_at_ecm =  mBCsVFcn(ecm)\n",
    "    ax1.errorbar(ecm, solver.bcs() / mBCs_at_ecm, yerr=bcs_err / mBCs_at_ecm, fmt='o',\n",
    "                 markersize=5, capsize=3,\n",
    "                 label=r'Ratio $\\frac{\\sigma_{\\rm B}}{\\sigma^{\\rm model}_{\\rm B}}$',\n",
    "            zorder=0)\n",
    "    ax1.set_xlabel(r'$\\sqrt{s}$ (GeV)', fontsize=fontsize)\n",
    "    ax0.set_ylabel('cross section (nb)', fontsize=fontsize)\n",
    "    ax0.legend(fontsize=fontsize, bbox_to_anchor=(1.05, 1))"
   ]
  },
  {
   "cell_type": "markdown",
   "id": "dc7cc46d",
   "metadata": {},
   "source": [
    "Function for plotting matrices:"
   ]
  },
  {
   "cell_type": "code",
   "execution_count": null,
   "id": "d2e3a186",
   "metadata": {},
   "outputs": [],
   "source": [
    "def matrixPlot(mx, title='', fontsize=24, fontscale=2.0):\n",
    "    sns.set(font_scale=fontscale)\n",
    "    f, ax = plt.subplots(figsize=(9, 7))\n",
    "    f.suptitle(title, fontsize=fontsize)\n",
    "    ax.tick_params(axis='both', which='major', labelsize=fontsize)\n",
    "    sns.heatmap(mx, ax=ax, square=True)"
   ]
  },
  {
   "cell_type": "markdown",
   "id": "bdb9d286",
   "metadata": {},
   "source": [
    "## $\\sigma_E = 10\\text{ MeV}$"
   ]
  },
  {
   "cell_type": "markdown",
   "id": "8a739a61",
   "metadata": {},
   "source": [
    "### Regularization parameter $\\lambda = 0$\n",
    "In this case, there is no regularization, i.e. in fact, the naive method is used. "
   ]
  },
  {
   "cell_type": "code",
   "execution_count": null,
   "id": "dcb9ebbc",
   "metadata": {
    "scrolled": true
   },
   "outputs": [],
   "source": [
    "input_path = 'data/gen_visible_cs_etapipi_simple_model_energy_spread_10MeV.root'\n",
    "solver = solve(*readVCS(input_path), enabled_energy_spread=True)\n",
    "print('Condition number: {}'.format(solver.condnum_eval()))\n",
    "csPlot(solver)\n",
    "matrixPlot(solver.intop_matrix(), title=r'Matrix of the system of linear equations, $\\hat{\\mathcal{G}}\\hat{\\mathcal{F}}$')\n",
    "matrixPlot(solver.bcs_cov_matrix(), title=r'Covariance matrix of the Born cross section')"
   ]
  },
  {
   "cell_type": "markdown",
   "id": "9cbb083a",
   "metadata": {},
   "source": [
    "### Regularization parameter $\\lambda=10^{-2}$"
   ]
  },
  {
   "cell_type": "code",
   "execution_count": null,
   "id": "2d3b22fd",
   "metadata": {
    "scrolled": true
   },
   "outputs": [],
   "source": [
    "input_path = 'data/gen_visible_cs_etapipi_simple_model_energy_spread_10MeV.root'\n",
    "solver = solve(*readVCS(input_path), enabled_energy_spread=True, reg_param=1.e-2)\n",
    "csPlot(solver)\n",
    "matrixPlot(solver.bcs_cov_matrix(), title=r'Covariance matrix of the Born cross section')"
   ]
  },
  {
   "cell_type": "markdown",
   "id": "714812ce",
   "metadata": {},
   "source": [
    "### Regularization parameter $\\lambda=0.1$"
   ]
  },
  {
   "cell_type": "code",
   "execution_count": null,
   "id": "bd327f96",
   "metadata": {
    "scrolled": true
   },
   "outputs": [],
   "source": [
    "input_path = 'data/gen_visible_cs_etapipi_simple_model_energy_spread_10MeV.root'\n",
    "solver = solve(*readVCS(input_path), enabled_energy_spread=True, reg_param=1.e-1)\n",
    "csPlot(solver)\n",
    "matrixPlot(solver.bcs_cov_matrix(), title=r'Covariance matrix of the Born cross section')"
   ]
  },
  {
   "cell_type": "markdown",
   "id": "7618506c",
   "metadata": {},
   "source": [
    "### Regularization parameter $\\lambda=1$"
   ]
  },
  {
   "cell_type": "code",
   "execution_count": null,
   "id": "805187d1",
   "metadata": {
    "scrolled": true
   },
   "outputs": [],
   "source": [
    "input_path = 'data/gen_visible_cs_etapipi_simple_model_energy_spread_10MeV.root'\n",
    "solver = solve(*readVCS(input_path), enabled_energy_spread=True, reg_param=1.)\n",
    "csPlot(solver)\n",
    "matrixPlot(solver.bcs_cov_matrix(), title=r'Covariance matrix of the Born cross section')"
   ]
  },
  {
   "cell_type": "markdown",
   "id": "48bf0c77",
   "metadata": {},
   "source": [
    "### Regularization parameter $\\lambda=10$"
   ]
  },
  {
   "cell_type": "code",
   "execution_count": null,
   "id": "7a5625d2",
   "metadata": {
    "scrolled": true
   },
   "outputs": [],
   "source": [
    "input_path = 'data/gen_visible_cs_etapipi_simple_model_energy_spread_10MeV.root'\n",
    "solver = solve(*readVCS(input_path), enabled_energy_spread=True, reg_param=10.)\n",
    "csPlot(solver)\n",
    "matrixPlot(solver.bcs_cov_matrix(), title=r'Covariance matrix of the Born cross section')"
   ]
  },
  {
   "cell_type": "markdown",
   "id": "dd565f62",
   "metadata": {},
   "source": [
    "### Regularization parameter $\\lambda = 10^{2}$"
   ]
  },
  {
   "cell_type": "code",
   "execution_count": null,
   "id": "f97d499f",
   "metadata": {
    "scrolled": false
   },
   "outputs": [],
   "source": [
    "input_path = 'data/gen_visible_cs_etapipi_simple_model_energy_spread_10MeV.root'\n",
    "solver = solve(*readVCS(input_path), enabled_energy_spread=True, reg_param=1.e+2)\n",
    "csPlot(solver)\n",
    "matrixPlot(solver.bcs_cov_matrix(), title=r'Covariance matrix of the Born cross section')"
   ]
  },
  {
   "cell_type": "markdown",
   "id": "d6411d63",
   "metadata": {},
   "source": [
    "## Optimal regularization parameter according to L-Curve criterion"
   ]
  },
  {
   "cell_type": "code",
   "execution_count": null,
   "id": "942a604b",
   "metadata": {},
   "outputs": [],
   "source": [
    "input_path = 'data/gen_visible_cs_etapipi_simple_model_energy_spread_10MeV.root'\n",
    "solver = solve(*readVCS(input_path), enabled_energy_spread=True, reg_param=10., lcurve=True)\n",
    "print('Regularization parameter: {}'.format(solver.reg_param))\n",
    "csPlot(solver)\n",
    "matrixPlot(solver.bcs_cov_matrix(), title=r'Covariance matrix of the Born cross section')"
   ]
  },
  {
   "cell_type": "markdown",
   "id": "f77aadb2",
   "metadata": {},
   "source": [
    "## $\\sigma_E = 20\\text{ MeV}$"
   ]
  },
  {
   "cell_type": "markdown",
   "id": "19e8d232",
   "metadata": {},
   "source": [
    "### Regularization parameter $\\lambda = 0$\n",
    "In this case, there is no regularization, i.e. in fact, the naive method is used. "
   ]
  },
  {
   "cell_type": "code",
   "execution_count": null,
   "id": "218a2cbf",
   "metadata": {},
   "outputs": [],
   "source": [
    "input_path = 'data/gen_visible_cs_etapipi_simple_model_energy_spread_20MeV.root'\n",
    "solver = solve(*readVCS(input_path), enabled_energy_spread=True)\n",
    "print('Condition number: {}'.format(solver.condnum_eval()))\n",
    "csPlot(solver)\n",
    "matrixPlot(solver.intop_matrix(), title=r'Matrix of the system of linear equations, $\\hat{\\mathcal{G}}\\hat{\\mathcal{F}}$')\n",
    "matrixPlot(solver.bcs_cov_matrix(), title=r'Covariance matrix of the Born cross section')"
   ]
  },
  {
   "cell_type": "markdown",
   "id": "18da5fba",
   "metadata": {},
   "source": [
    "### Regularization parameter $\\lambda=10^{-3}$"
   ]
  },
  {
   "cell_type": "code",
   "execution_count": null,
   "id": "6c6cad04",
   "metadata": {},
   "outputs": [],
   "source": [
    "input_path = 'data/gen_visible_cs_etapipi_simple_model_energy_spread_20MeV.root'\n",
    "solver = solve(*readVCS(input_path), enabled_energy_spread=True, reg_param=1.e-3)\n",
    "csPlot(solver)\n",
    "matrixPlot(solver.bcs_cov_matrix(), title=r'Covariance matrix of the Born cross section')"
   ]
  },
  {
   "cell_type": "markdown",
   "id": "a93fa4ef",
   "metadata": {},
   "source": [
    "### Regularization parameter $\\lambda=10^{-2}$"
   ]
  },
  {
   "cell_type": "code",
   "execution_count": null,
   "id": "a0fb5afb",
   "metadata": {
    "scrolled": true
   },
   "outputs": [],
   "source": [
    "input_path = 'data/gen_visible_cs_etapipi_simple_model_energy_spread_20MeV.root'\n",
    "solver = solve(*readVCS(input_path), enabled_energy_spread=True, reg_param=1.e-2)\n",
    "csPlot(solver)\n",
    "matrixPlot(solver.bcs_cov_matrix(), title=r'Covariance matrix of the Born cross section')"
   ]
  },
  {
   "cell_type": "markdown",
   "id": "4398a576",
   "metadata": {},
   "source": [
    "### Regularization parameter $\\lambda=0.1$"
   ]
  },
  {
   "cell_type": "code",
   "execution_count": null,
   "id": "01441940",
   "metadata": {},
   "outputs": [],
   "source": [
    "input_path = 'data/gen_visible_cs_etapipi_simple_model_energy_spread_20MeV.root'\n",
    "solver = solve(*readVCS(input_path), enabled_energy_spread=True, reg_param=1.e-1)\n",
    "csPlot(solver)\n",
    "matrixPlot(solver.bcs_cov_matrix(), title=r'Covariance matrix of the Born cross section')"
   ]
  },
  {
   "cell_type": "markdown",
   "id": "a816185c",
   "metadata": {},
   "source": [
    "### Regularization parameter $\\lambda=1$"
   ]
  },
  {
   "cell_type": "code",
   "execution_count": null,
   "id": "330e254b",
   "metadata": {
    "scrolled": true
   },
   "outputs": [],
   "source": [
    "input_path = 'data/gen_visible_cs_etapipi_simple_model_energy_spread_20MeV.root'\n",
    "solver = solve(*readVCS(input_path), enabled_energy_spread=True, reg_param=1.)\n",
    "csPlot(solver)\n",
    "matrixPlot(solver.bcs_cov_matrix(), title=r'Covariance matrix of the Born cross section')"
   ]
  },
  {
   "cell_type": "markdown",
   "id": "e13f1d7d",
   "metadata": {},
   "source": [
    "### Regularization parameter $\\lambda=10$"
   ]
  },
  {
   "cell_type": "code",
   "execution_count": null,
   "id": "c42fa722",
   "metadata": {
    "scrolled": false
   },
   "outputs": [],
   "source": [
    "input_path = 'data/gen_visible_cs_etapipi_simple_model_energy_spread_20MeV.root'\n",
    "solver = solve(*readVCS(input_path), enabled_energy_spread=True, reg_param=10.)\n",
    "csPlot(solver)\n",
    "matrixPlot(solver.bcs_cov_matrix(), title=r'Covariance matrix of the Born cross section')"
   ]
  },
  {
   "cell_type": "markdown",
   "id": "7ad36440",
   "metadata": {},
   "source": [
    "## Optimal regularization parameter according to L-Curve criterion"
   ]
  },
  {
   "cell_type": "code",
   "execution_count": null,
   "id": "bfe2a834",
   "metadata": {},
   "outputs": [],
   "source": [
    "input_path = 'data/gen_visible_cs_etapipi_simple_model_energy_spread_20MeV.root'\n",
    "solver = solve(*readVCS(input_path), enabled_energy_spread=True, reg_param=1., lcurve=True)\n",
    "print('Regularization parameter: {}'.format(solver.reg_param))\n",
    "csPlot(solver)\n",
    "matrixPlot(solver.bcs_cov_matrix(), title=r'Covariance matrix of the Born cross section')"
   ]
  },
  {
   "cell_type": "markdown",
   "id": "98d21b78",
   "metadata": {},
   "source": [
    "## $\\sigma_E = 5\\text{ MeV}$"
   ]
  },
  {
   "cell_type": "markdown",
   "id": "fa57b851",
   "metadata": {},
   "source": [
    "### Regularization parameter $\\lambda = 0$\n",
    "In this case, there is no regularization, i.e. in fact, the naive method is used. "
   ]
  },
  {
   "cell_type": "code",
   "execution_count": null,
   "id": "ad724239",
   "metadata": {
    "scrolled": true
   },
   "outputs": [],
   "source": [
    "input_path = 'data/gen_visible_cs_etapipi_simple_model_energy_spread_5MeV.root'\n",
    "solver = solve(*readVCS(input_path), enabled_energy_spread=True)\n",
    "print('Condition number: {}'.format(solver.condnum_eval()))\n",
    "csPlot(solver)\n",
    "matrixPlot(solver.intop_matrix(), title=r'Matrix of the system of linear equations, $\\hat{\\mathcal{G}}\\hat{\\mathcal{F}}$')\n",
    "matrixPlot(solver.bcs_cov_matrix(), title=r'Covariance matrix of the Born cross section')"
   ]
  },
  {
   "cell_type": "markdown",
   "id": "a5246cf8",
   "metadata": {},
   "source": [
    "### Regularization parameter $\\lambda = 10^{-1}$"
   ]
  },
  {
   "cell_type": "code",
   "execution_count": null,
   "id": "8ce40c2e",
   "metadata": {
    "scrolled": true
   },
   "outputs": [],
   "source": [
    "input_path = 'data/gen_visible_cs_etapipi_simple_model_energy_spread_5MeV.root'\n",
    "solver = solve(*readVCS(input_path), enabled_energy_spread=True, reg_param=1.e-1)\n",
    "csPlot(solver)\n",
    "matrixPlot(solver.bcs_cov_matrix(), title=r'Covariance matrix of the Born cross section')"
   ]
  },
  {
   "cell_type": "markdown",
   "id": "ca3fdd3e",
   "metadata": {},
   "source": [
    "## Optimal regularization parameter according to L-Curve criterion"
   ]
  },
  {
   "cell_type": "code",
   "execution_count": null,
   "id": "04c7af21",
   "metadata": {},
   "outputs": [],
   "source": [
    "input_path = 'data/gen_visible_cs_etapipi_simple_model_energy_spread_5MeV.root'\n",
    "solver = solve(*readVCS(input_path), enabled_energy_spread=True, reg_param=1., lcurve=True)\n",
    "print('Regularization parameter: {}'.format(solver.reg_param))\n",
    "csPlot(solver)\n",
    "matrixPlot(solver.bcs_cov_matrix(), title=r'Covariance matrix of the Born cross section')"
   ]
  }
 ],
 "metadata": {
  "kernelspec": {
   "display_name": "Python 3 (ipykernel)",
   "language": "python",
   "name": "python3"
  },
  "language_info": {
   "codemirror_mode": {
    "name": "ipython",
    "version": 3
   },
   "file_extension": ".py",
   "mimetype": "text/x-python",
   "name": "python",
   "nbconvert_exporter": "python",
   "pygments_lexer": "ipython3",
   "version": "3.9.6"
  }
 },
 "nbformat": 4,
 "nbformat_minor": 5
}
