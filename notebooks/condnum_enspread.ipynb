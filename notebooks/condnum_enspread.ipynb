{
 "cells": [
  {
   "cell_type": "code",
   "execution_count": null,
   "id": "73b63fc3",
   "metadata": {},
   "outputs": [],
   "source": [
    "import numpy as np\n",
    "import pandas as pd\n",
    "import json\n",
    "import seaborn as sns\n",
    "from PyISR import ISRSolverSLE\n",
    "from ROOT import TFile\n",
    "import matplotlib\n",
    "import matplotlib.pyplot as plt\n",
    "import mplhep as hep\n",
    "plt.style.use(hep.style.CMS)\n",
    "matplotlib.rcParams['text.usetex'] = True\n",
    "matplotlib.rcParams['font.sans-serif'] = ['Tahoma', 'DejaVu Sans',\n",
    "                                          'Lucida Grande', 'Verdana']"
   ]
  },
  {
   "cell_type": "code",
   "execution_count": null,
   "id": "afd8171d",
   "metadata": {},
   "outputs": [],
   "source": [
    "from tqdm import tqdm"
   ]
  },
  {
   "cell_type": "code",
   "execution_count": null,
   "id": "43287815",
   "metadata": {},
   "outputs": [],
   "source": [
    "%%javascript\n",
    "IPython.OutputArea.prototype._should_scroll = function(lines) {\n",
    "    return false;\n",
    "}"
   ]
  },
  {
   "cell_type": "code",
   "execution_count": null,
   "id": "52e3547e",
   "metadata": {},
   "outputs": [],
   "source": [
    "%matplotlib inline"
   ]
  },
  {
   "cell_type": "code",
   "execution_count": null,
   "id": "577a5209",
   "metadata": {},
   "outputs": [],
   "source": [
    "def readVCS(path):\n",
    "    fl = TFile.Open(path, \"read\")\n",
    "    # Getting a pointer to the visible cross section in the form of TGraphErrors\n",
    "    gvcs = fl.Get('vcs')\n",
    "    # Number of c.m. energy points\n",
    "    n = gvcs.GetN()\n",
    "    # Reading c.m. energy array\n",
    "    energy = np.frombuffer(gvcs.GetX(), dtype=np.float64, count=n)\n",
    "    # Reading array of c.m. energy errors\n",
    "    energyErr = np.frombuffer(gvcs.GetEX(), dtype=np.float64, count=n)\n",
    "    # Reading visible cross section array\n",
    "    vcs = np.frombuffer(gvcs.GetY(), dtype=np.float64, count=n)\n",
    "    # Reading array of visible cross section errors\n",
    "    vcsErr = np.frombuffer(gvcs.GetEY(), dtype=np.float64, count=n)\n",
    "    fl.Close()\n",
    "    return energy, vcs, energyErr, vcsErr"
   ]
  },
  {
   "cell_type": "code",
   "execution_count": null,
   "id": "38d40813",
   "metadata": {},
   "outputs": [],
   "source": [
    "def solve(energy, vcs, energyErr, vcsErr, \n",
    "          enabled_energy_spread=False, \n",
    "          threshold_energy=0.827, \n",
    "          interp=None,\n",
    "          efficiency=lambda x, en: 1.0):\n",
    "    n = energy.shape[0]\n",
    "    solver = ISRSolverSLE(n, energy, vcs, \n",
    "                          energyErr, vcsErr, \n",
    "                          threshold_energy, efficiency,\n",
    "                          enabled_energy_spread)\n",
    "    if type(interp) == str:\n",
    "        with open(interp, 'r') as jfl:\n",
    "            settings = json.load(jfl)\n",
    "        \n",
    "        print('Interpolation settings:')\n",
    "        print(settings)\n",
    "        solver.set_interp_settings(settings)\n",
    "    elif type(interp) == list:\n",
    "        print('Interpolation settings:')\n",
    "        print(interp)\n",
    "        solver.set_interp_settings(interp)\n",
    "    \n",
    "    solver.solve()\n",
    "    return solver"
   ]
  },
  {
   "cell_type": "code",
   "execution_count": null,
   "id": "5b031be0",
   "metadata": {},
   "outputs": [],
   "source": [
    "input_path = 'data/gen_visible_cs_etapipi_simple_model_no_energy_spread.root'\n",
    "solver = solve(*readVCS(input_path))\n",
    "enspread = np.linspace(0.,0.014, 100)\n",
    "condnum = [solver.condnum_eval(),]\n",
    "solver.energy_spread_enabled = True\n",
    "pbar = tqdm(total=enspread.shape[0] -1)\n",
    "for i in range(1, enspread.shape[0]):\n",
    "    solver.reset_ecm_err(enspread[i] * np.ones(solver.n))\n",
    "    solver.eval_equation_matrix()\n",
    "    condnum.append(solver.condnum_eval())\n",
    "    pbar.update(1)\n",
    "    \n",
    "condnum = np.array(condnum)"
   ]
  },
  {
   "cell_type": "code",
   "execution_count": null,
   "id": "999ff9b6",
   "metadata": {},
   "outputs": [],
   "source": [
    "def condnumPlot(x, y):\n",
    "    fontsize = 24\n",
    "    f, ax = plt.subplots(figsize=(9, 7))\n",
    "    ax.tick_params(axis='both', which='major', labelsize=fontsize)\n",
    "    ax.plot(x * 1.e+3, y, 'r-')\n",
    "    ax.set_yscale('log')\n",
    "    ax.set_xlabel(r'$\\sigma_E$ (MeV)', fontsize=fontsize)\n",
    "    ax.set_ylabel('condition number', fontsize=fontsize)"
   ]
  },
  {
   "cell_type": "code",
   "execution_count": null,
   "id": "95f833ee",
   "metadata": {},
   "outputs": [],
   "source": [
    "condnumPlot(enspread, condnum)"
   ]
  }
 ],
 "metadata": {
  "kernelspec": {
   "display_name": "Python 3 (ipykernel)",
   "language": "python",
   "name": "python3"
  },
  "language_info": {
   "codemirror_mode": {
    "name": "ipython",
    "version": 3
   },
   "file_extension": ".py",
   "mimetype": "text/x-python",
   "name": "python",
   "nbconvert_exporter": "python",
   "pygments_lexer": "ipython3",
   "version": "3.9.6"
  }
 },
 "nbformat": 4,
 "nbformat_minor": 5
}
