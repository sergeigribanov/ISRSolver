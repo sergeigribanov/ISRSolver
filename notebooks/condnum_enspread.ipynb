{
 "cells": [
  {
   "cell_type": "markdown",
   "id": "9b9f455c",
   "metadata": {},
   "source": [
    "# Dependence of the condition number $cond(\\hat{\\mathcal{G}}\\hat{\\mathcal{F}})$ on c.m. energy spread"
   ]
  },
  {
   "cell_type": "code",
   "execution_count": null,
   "id": "73b63fc3",
   "metadata": {},
   "outputs": [],
   "source": [
    "import numpy as np\n",
    "import pandas as pd\n",
    "import json\n",
    "import seaborn as sns\n",
    "from PyISR import ISRSolverSLE\n",
    "from ROOT import TFile\n",
    "import matplotlib\n",
    "import matplotlib.pyplot as plt\n",
    "import mplhep as hep\n",
    "from tqdm import notebook\n",
    "plt.style.use(hep.style.CMS)\n",
    "matplotlib.rcParams['text.usetex'] = True\n",
    "matplotlib.rcParams['font.sans-serif'] = ['Tahoma', 'DejaVu Sans',\n",
    "                                          'Lucida Grande', 'Verdana']"
   ]
  },
  {
   "cell_type": "markdown",
   "id": "0acdb1c6",
   "metadata": {},
   "source": [
    "Remove scrolling:"
   ]
  },
  {
   "cell_type": "code",
   "execution_count": null,
   "id": "43287815",
   "metadata": {},
   "outputs": [],
   "source": [
    "%%javascript\n",
    "IPython.OutputArea.prototype._should_scroll = function(lines) {\n",
    "    return false;\n",
    "}"
   ]
  },
  {
   "cell_type": "code",
   "execution_count": null,
   "id": "52e3547e",
   "metadata": {},
   "outputs": [],
   "source": [
    "%matplotlib inline"
   ]
  },
  {
   "cell_type": "markdown",
   "id": "8c4a5615",
   "metadata": {},
   "source": [
    "Function for reading visible cross section data:"
   ]
  },
  {
   "cell_type": "code",
   "execution_count": null,
   "id": "577a5209",
   "metadata": {},
   "outputs": [],
   "source": [
    "def readVCS(path):\n",
    "    fl = TFile.Open(path, \"read\")\n",
    "    # Getting a pointer to the visible cross section in the form of TGraphErrors\n",
    "    gvcs = fl.Get('vcs')\n",
    "    # Number of c.m. energy points\n",
    "    n = gvcs.GetN()\n",
    "    # Reading c.m. energy array\n",
    "    energy = np.frombuffer(gvcs.GetX(), dtype=np.float64, count=n)\n",
    "    # Reading array of c.m. energy errors\n",
    "    energyErr = np.frombuffer(gvcs.GetEX(), dtype=np.float64, count=n)\n",
    "    # Reading visible cross section array\n",
    "    vcs = np.frombuffer(gvcs.GetY(), dtype=np.float64, count=n)\n",
    "    # Reading array of visible cross section errors\n",
    "    vcsErr = np.frombuffer(gvcs.GetEY(), dtype=np.float64, count=n)\n",
    "    fl.Close()\n",
    "    return energy, vcs, energyErr, vcsErr"
   ]
  },
  {
   "cell_type": "markdown",
   "id": "82dd8ea2",
   "metadata": {},
   "source": [
    "Function for obtaining numerical solution:"
   ]
  },
  {
   "cell_type": "code",
   "execution_count": null,
   "id": "38d40813",
   "metadata": {},
   "outputs": [],
   "source": [
    "def solve(energy, vcs, energyErr, vcsErr, \n",
    "          enabled_energy_spread=False, \n",
    "          threshold_energy=0.827, \n",
    "          interp=None,\n",
    "          efficiency=lambda x, en: 1.0):\n",
    "    n = energy.shape[0]\n",
    "    solver = ISRSolverSLE(n, energy, vcs, \n",
    "                          energyErr, vcsErr, \n",
    "                          threshold_energy, efficiency,\n",
    "                          enabled_energy_spread)\n",
    "    if type(interp) == str:\n",
    "        with open(interp, 'r') as jfl:\n",
    "            settings = json.load(jfl)\n",
    "        \n",
    "        print('Interpolation settings:')\n",
    "        print(settings)\n",
    "        solver.set_interp_settings(settings)\n",
    "    elif type(interp) == list:\n",
    "        print('Interpolation settings:')\n",
    "        print(interp)\n",
    "        solver.set_interp_settings(interp)\n",
    "    \n",
    "    solver.solve()\n",
    "    return solver"
   ]
  },
  {
   "cell_type": "code",
   "execution_count": null,
   "id": "84fd8c0c",
   "metadata": {},
   "outputs": [],
   "source": [
    "# Number c.m. energy spread points\n",
    "npt = 100\n",
    "# Function for preparing dependence of the condition number of c.m. energy spread\n",
    "def makeCondNumData(input_data):\n",
    "    pbar = notebook.tqdm(total=npt, position=input_data['position'])\n",
    "    solver = solve(*readVCS(input_data['input_path']))\n",
    "    pbar.update()\n",
    "    enspread = np.linspace(0.,0.014, npt)\n",
    "    condnum = [solver.condnum_eval(),]\n",
    "    solver.energy_spread_enabled = True\n",
    "    for i in range(1, enspread.shape[0]):\n",
    "        solver.reset_ecm_err(enspread[i] * np.ones(solver.n))\n",
    "        solver.eval_equation_matrix()\n",
    "        condnum.append(solver.condnum_eval())\n",
    "        pbar.update()\n",
    "    \n",
    "    condnum = np.array(condnum)\n",
    "    return enspread, condnum\n",
    "    "
   ]
  },
  {
   "cell_type": "markdown",
   "id": "b04fc33e",
   "metadata": {},
   "source": [
    "## Equally spaced c.m. energy points"
   ]
  },
  {
   "cell_type": "code",
   "execution_count": null,
   "id": "5b031be0",
   "metadata": {},
   "outputs": [],
   "source": [
    "input_data = [\n",
    "    {'input_path' : 'data/gen_visible_cs_etapipi_simple_model_no_energy_spread.root',\n",
    "    'label' : r'$50$ equally spaced c.m. energy points',\n",
    "    'position' : 0},\n",
    "    {'input_path' : 'data/gen_visible_cs_etapipi_simple_model_no_energy_spread_100pts.root',\n",
    "    'label' : r'$100$ equally spaced c.m. energy points',\n",
    "    'position' : 1},\n",
    "]\n",
    "cndData = map(makeCondNumData, input_data)"
   ]
  },
  {
   "cell_type": "code",
   "execution_count": null,
   "id": "999ff9b6",
   "metadata": {},
   "outputs": [],
   "source": [
    "# Function for plotting dependence of the condition number of the c.m. energy spread\n",
    "def condnumPlot(out_data, in_data):\n",
    "    fontsize = 24\n",
    "    f, ax = plt.subplots(figsize=(9, 7))\n",
    "    ax.tick_params(axis='both', which='major', labelsize=fontsize)\n",
    "    for i, (x, y) in enumerate(out_data):\n",
    "        ax.plot(x * 1.e+3, y, label=in_data[i]['label'])\n",
    "        \n",
    "    ax.set_yscale('log')\n",
    "    ax.set_xlabel(r'$\\sigma_E$ (MeV)', fontsize=fontsize)\n",
    "    ax.set_ylabel('condition number', fontsize=fontsize)\n",
    "    ax.legend(fontsize=fontsize, bbox_to_anchor=(1.05, 1))"
   ]
  },
  {
   "cell_type": "code",
   "execution_count": null,
   "id": "95f833ee",
   "metadata": {
    "scrolled": true
   },
   "outputs": [],
   "source": [
    "condnumPlot(cndData, input_data)"
   ]
  },
  {
   "cell_type": "markdown",
   "id": "680f3b53",
   "metadata": {},
   "source": [
    "## Highly non-uniform distribution of c.m.energy points"
   ]
  },
  {
   "cell_type": "code",
   "execution_count": null,
   "id": "8a558c95",
   "metadata": {},
   "outputs": [],
   "source": [
    "input_data = [\n",
    "    {'input_path' : 'data/gen_visible_cs_etapipi_simple_model_no_energy_spread_nonuniform.root',\n",
    "    'label' : r'$50$ non-uniform c.m. energy points',\n",
    "    'position' : 0}\n",
    "]\n",
    "cndData = map(makeCondNumData, input_data)\n",
    "condnumPlot(cndData, input_data)"
   ]
  },
  {
   "cell_type": "code",
   "execution_count": null,
   "id": "7725da3b",
   "metadata": {},
   "outputs": [],
   "source": [
    "# Opening the file containing the model cross section\n",
    "fl = TFile.Open('data/born_cs_etapipi_simple_model.root', 'read')\n",
    "# Cloning the model cross section function\n",
    "mBCsFcn = fl.Get('f_bcs').Clone()\n",
    "# Vectorizing the model Born cross section function\n",
    "mBCsVFcn = np.vectorize(lambda en: mBCsFcn.Eval(en))\n",
    "# Closing the file\n",
    "fl.Close()"
   ]
  },
  {
   "cell_type": "code",
   "execution_count": null,
   "id": "235209ad",
   "metadata": {},
   "outputs": [],
   "source": [
    "def csPlot(solver, title='Cross sections', fontsize=24):\n",
    "    # Getting c.m. energy array\n",
    "    ecm = solver.ecm()\n",
    "    f, (ax0, ax1) = plt.subplots(2, 1, gridspec_kw={'height_ratios': [3, 1]}, sharex=True,\n",
    "                                figsize=(9, 10))\n",
    "    f.suptitle(title, fontsize=fontsize)\n",
    "    ax1.tick_params(axis='both', which='major', labelsize=fontsize)\n",
    "    ecm_dense = np.linspace(np.min(ecm), np.max(ecm), ecm.shape[0] * 20)\n",
    "    interp = np.vectorize(lambda en: solver.interp_eval(en))(ecm_dense)\n",
    "    ax0.errorbar(ecm, solver.vcs(), \n",
    "                xerr=solver.ecm_err(),\n",
    "                yerr=solver.vcs_err(), fmt='o',\n",
    "                markersize=5, capsize=3,\n",
    "                label='Visible cross section', zorder=0)\n",
    "    bcs_err = yerr=np.sqrt(np.diag(solver.bcs_cov_matrix()))\n",
    "    ax0.errorbar(ecm, solver.bcs(), yerr=bcs_err, fmt='o',\n",
    "                 markersize=5, capsize=3,\n",
    "                label='Born cross section', zorder=1)\n",
    "    ax0.plot(ecm_dense, interp, 'b--', label='Interpolation of the Born cross section', zorder=2)\n",
    "    ax0.plot(ecm_dense, mBCsVFcn(ecm_dense), 'r-', label='Model Born cross section', zorder=3)\n",
    "    mBCs_at_ecm =  mBCsVFcn(ecm)\n",
    "    ax1.errorbar(ecm, solver.bcs() / mBCs_at_ecm, yerr=bcs_err / mBCs_at_ecm, fmt='o',\n",
    "                 markersize=5, capsize=3,\n",
    "                 label=r'Ratio $\\frac{\\sigma_{\\rm B}}{\\sigma^{\\rm model}_{\\rm B}}$',\n",
    "            zorder=0)\n",
    "    ax1.set_xlabel(r'$\\sqrt{s}$ (GeV)', fontsize=fontsize)\n",
    "    ax0.set_ylabel('cross section (nb)', fontsize=fontsize)\n",
    "    ax0.legend(fontsize=fontsize, bbox_to_anchor=(1.05, 1))"
   ]
  },
  {
   "cell_type": "markdown",
   "id": "3c961172",
   "metadata": {},
   "source": [
    "### $\\sigma_E = 0\\text{ MeV}$"
   ]
  },
  {
   "cell_type": "code",
   "execution_count": null,
   "id": "e8b2e647",
   "metadata": {},
   "outputs": [],
   "source": [
    "input_path = 'data/gen_visible_cs_etapipi_simple_model_no_energy_spread_nonuniform.root'\n",
    "energy, vcs, energyErr, vcsErr = readVCS(input_path)\n",
    "solver = solve(energy, vcs, energyErr, vcsErr, enabled_energy_spread=False)\n",
    "print('Condition number: {}'.format(solver.condnum_eval()))\n",
    "csPlot(solver)"
   ]
  },
  {
   "cell_type": "markdown",
   "id": "539dacbf",
   "metadata": {},
   "source": [
    "### $\\sigma_E = 0.2\\text{ MeV}$"
   ]
  },
  {
   "cell_type": "code",
   "execution_count": null,
   "id": "9cb3dc25",
   "metadata": {
    "scrolled": true
   },
   "outputs": [],
   "source": [
    "input_path = 'data/gen_visible_cs_etapipi_simple_model_no_energy_spread_nonuniform.root'\n",
    "energy, vcs, _, vcsErr = readVCS(input_path)\n",
    "energyErr = 2.e-4 * np.ones(energy.shape[0])\n",
    "solver = solve(energy, vcs, energyErr, vcsErr, enabled_energy_spread=True)\n",
    "print('Condition number: {}'.format(solver.condnum_eval()))\n",
    "csPlot(solver)"
   ]
  },
  {
   "cell_type": "markdown",
   "id": "9911464d",
   "metadata": {},
   "source": [
    "### $\\sigma_E = 0.8\\text{ MeV}$"
   ]
  },
  {
   "cell_type": "code",
   "execution_count": null,
   "id": "71670be5",
   "metadata": {},
   "outputs": [],
   "source": [
    "input_path = 'data/gen_visible_cs_etapipi_simple_model_no_energy_spread_nonuniform.root'\n",
    "energy, vcs, _, vcsErr = readVCS(input_path)\n",
    "energyErr = 8.e-4 * np.ones(energy.shape[0])\n",
    "solver = solve(energy, vcs, energyErr, vcsErr, enabled_energy_spread=True)\n",
    "print('Condition number: {}'.format(solver.condnum_eval()))\n",
    "csPlot(solver)"
   ]
  },
  {
   "cell_type": "markdown",
   "id": "96f41849",
   "metadata": {},
   "source": [
    "### $\\sigma_E = 1\\text{ MeV}$"
   ]
  },
  {
   "cell_type": "code",
   "execution_count": null,
   "id": "35a815c5",
   "metadata": {},
   "outputs": [],
   "source": [
    "input_path = 'data/gen_visible_cs_etapipi_simple_model_no_energy_spread_nonuniform.root'\n",
    "energy, vcs, _, vcsErr = readVCS(input_path)\n",
    "energyErr = 1.e-3 * np.ones(energy.shape[0])\n",
    "solver = solve(energy, vcs, energyErr, vcsErr, enabled_energy_spread=True)\n",
    "print('Condition number: {}'.format(solver.condnum_eval()))\n",
    "csPlot(solver)"
   ]
  },
  {
   "cell_type": "markdown",
   "id": "52861964",
   "metadata": {},
   "source": [
    "### $\\sigma_E = 2\\text{ MeV}$"
   ]
  },
  {
   "cell_type": "code",
   "execution_count": null,
   "id": "b37c5f20",
   "metadata": {
    "scrolled": true
   },
   "outputs": [],
   "source": [
    "input_path = 'data/gen_visible_cs_etapipi_simple_model_no_energy_spread_nonuniform.root'\n",
    "energy, vcs, _, vcsErr = readVCS(input_path)\n",
    "energyErr = 2.e-3 * np.ones(energy.shape[0])\n",
    "solver = solve(energy, vcs, energyErr, vcsErr, enabled_energy_spread=True)\n",
    "print('Condition number: {}'.format(solver.condnum_eval()))\n",
    "csPlot(solver)"
   ]
  },
  {
   "cell_type": "markdown",
   "id": "580ac2f9",
   "metadata": {},
   "source": [
    "## The case of two close c.m. energy points. \n",
    "The distance between almost all neighboring c.m. energy points is about $16.4\\text{ MeV}$, but there are two points with distance $1\\text{ MeV}$ "
   ]
  },
  {
   "cell_type": "code",
   "execution_count": null,
   "id": "3ce7af3e",
   "metadata": {},
   "outputs": [],
   "source": [
    "input_data = [\n",
    "    {'input_path' : 'data/gen_visible_cs_etapipi_simple_model_no_energy_spread_two_close_points.root',\n",
    "    'label' : 'case of two close c.m. energy points',\n",
    "    'position' : 0}\n",
    "]\n",
    "cndData = map(makeCondNumData, input_data)\n",
    "condnumPlot(cndData, input_data)"
   ]
  },
  {
   "cell_type": "markdown",
   "id": "675032d7",
   "metadata": {},
   "source": [
    "### $\\sigma_E = 0\\text{ MeV}$"
   ]
  },
  {
   "cell_type": "code",
   "execution_count": null,
   "id": "c557d2c2",
   "metadata": {},
   "outputs": [],
   "source": [
    "input_path = 'data/gen_visible_cs_etapipi_simple_model_no_energy_spread_two_close_points.root'\n",
    "energy, vcs, energyErr, vcsErr = readVCS(input_path)\n",
    "solver = solve(energy, vcs, energyErr, vcsErr, enabled_energy_spread=False)\n",
    "print('Condition number: {}'.format(solver.condnum_eval()))\n",
    "csPlot(solver)"
   ]
  },
  {
   "cell_type": "markdown",
   "id": "62e83c01",
   "metadata": {},
   "source": [
    "### $\\sigma_E = 2\\text{MeV}$\n",
    "There is a large scatter of the cross section at close points."
   ]
  },
  {
   "cell_type": "code",
   "execution_count": null,
   "id": "b3eb17f7",
   "metadata": {},
   "outputs": [],
   "source": [
    "input_path = 'data/gen_visible_cs_etapipi_simple_model_no_energy_spread_two_close_points.root'\n",
    "energy, vcs, _, vcsErr = readVCS(input_path)\n",
    "energyErr = 2.e-3 * np.ones(energy.shape[0])\n",
    "solver = solve(energy, vcs, energyErr, vcsErr, enabled_energy_spread=True)\n",
    "print('Condition number: {}'.format(solver.condnum_eval()))\n",
    "csPlot(solver)"
   ]
  }
 ],
 "metadata": {
  "kernelspec": {
   "display_name": "Python 3 (ipykernel)",
   "language": "python",
   "name": "python3"
  },
  "language_info": {
   "codemirror_mode": {
    "name": "ipython",
    "version": 3
   },
   "file_extension": ".py",
   "mimetype": "text/x-python",
   "name": "python",
   "nbconvert_exporter": "python",
   "pygments_lexer": "ipython3",
   "version": "3.9.6"
  }
 },
 "nbformat": 4,
 "nbformat_minor": 5
}
