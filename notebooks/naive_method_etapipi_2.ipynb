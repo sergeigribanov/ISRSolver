{
 "cells": [
  {
   "cell_type": "markdown",
   "id": "2d06c82f",
   "metadata": {},
   "source": [
    "# Naive method, $e^+e^-\\rightarrow\\eta\\pi^+\\pi^-$ (2)\n",
    "This notebook is similar to notebook [naive_method_etapipi_1.ipynb](./naive_method_etapipi_1.ipynb), but non-trivial detection efficiency is used. The detection efficiency in this case is\n",
    "$$\n",
    "\\varepsilon(x, s) =\n",
    "\\begin{cases}\n",
    "1, & \\sqrt{s}-\\sqrt{s(1 - x}<10\\text{ MeV},\\\\\n",
    "0, & \\text{otherwise}.\n",
    "\\end{cases}\n",
    "$$\n",
    "This efficiency is purely model, i.e. does not correspond to real experiment."
   ]
  },
  {
   "cell_type": "code",
   "execution_count": null,
   "id": "aec41dea",
   "metadata": {},
   "outputs": [],
   "source": [
    "import numpy as np\n",
    "import pandas as pd\n",
    "import json\n",
    "import seaborn as sns\n",
    "from PyISR import ISRSolverSLE\n",
    "from ROOT import TFile\n",
    "import matplotlib\n",
    "import matplotlib.pyplot as plt\n",
    "import mplhep as hep\n",
    "plt.style.use(hep.style.CMS)\n",
    "matplotlib.rcParams['text.usetex'] = True\n",
    "matplotlib.rcParams['font.sans-serif'] = ['Tahoma', 'DejaVu Sans',\n",
    "                                          'Lucida Grande', 'Verdana']"
   ]
  },
  {
   "cell_type": "markdown",
   "id": "d51eafd5",
   "metadata": {},
   "source": [
    "Remove scrolling:"
   ]
  },
  {
   "cell_type": "code",
   "execution_count": null,
   "id": "86a2e6dc",
   "metadata": {},
   "outputs": [],
   "source": [
    "%%javascript\n",
    "IPython.OutputArea.prototype._should_scroll = function(lines) {\n",
    "    return false;\n",
    "}"
   ]
  },
  {
   "cell_type": "code",
   "execution_count": null,
   "id": "f013bbf3",
   "metadata": {},
   "outputs": [],
   "source": [
    "%matplotlib inline"
   ]
  },
  {
   "cell_type": "markdown",
   "id": "141844cc",
   "metadata": {},
   "source": [
    "Loading the model Born cross section"
   ]
  },
  {
   "cell_type": "code",
   "execution_count": null,
   "id": "7c2d016c",
   "metadata": {},
   "outputs": [],
   "source": [
    "# Opening the file containing the model cross section\n",
    "fl = TFile.Open('data/born_cs_etapipi_simple_model.root', 'read')\n",
    "# Cloning the model cross section function\n",
    "mBCsFcn = fl.Get('f_bcs').Clone()\n",
    "# Vectorizing the model Born cross section function\n",
    "mBCsVFcn = np.vectorize(lambda en: mBCsFcn.Eval(en))\n",
    "# Closing the file\n",
    "fl.Close()"
   ]
  },
  {
   "cell_type": "markdown",
   "id": "ac700276",
   "metadata": {},
   "source": [
    "Saving the current Matplotlib style:"
   ]
  },
  {
   "cell_type": "code",
   "execution_count": null,
   "id": "6f07989d",
   "metadata": {},
   "outputs": [],
   "source": [
    "# Current Matplotlib style parameters\n",
    "mplStyleParams = dict(matplotlib.rcParams)\n",
    "# Deprecated parameters\n",
    "deprecatedParams = ['animation.avconv_args', 'animation.avconv_path', \n",
    "                    'animation.html_args', 'keymap.all_axes',\n",
    "                   'savefig.jpeg_quality', 'text.latex.preview']\n",
    "# Remove deprecated parameters in oder to avoid warnings\n",
    "_ = list(map(lambda key : mplStyleParams.pop(key, None), deprecatedParams))"
   ]
  },
  {
   "cell_type": "markdown",
   "id": "d973fe6c",
   "metadata": {},
   "source": [
    "Function for reading visible cross section data:"
   ]
  },
  {
   "cell_type": "code",
   "execution_count": null,
   "id": "dcfa8118",
   "metadata": {},
   "outputs": [],
   "source": [
    "def readVCS(path):\n",
    "    fl = TFile.Open(path, \"read\")\n",
    "    # Getting a pointer to the visible cross section in the form of TGraphErrors\n",
    "    gvcs = fl.Get('vcs')\n",
    "    # Number of c.m. energy points\n",
    "    n = gvcs.GetN()\n",
    "    # Reading c.m. energy array\n",
    "    energy = np.frombuffer(gvcs.GetX(), dtype=np.float64, count=n)\n",
    "    # Reading array of c.m. energy errors\n",
    "    energyErr = np.frombuffer(gvcs.GetEX(), dtype=np.float64, count=n)\n",
    "    # Reading visible cross section array\n",
    "    vcs = np.frombuffer(gvcs.GetY(), dtype=np.float64, count=n)\n",
    "    # Reading array of visible cross section errors\n",
    "    vcsErr = np.frombuffer(gvcs.GetEY(), dtype=np.float64, count=n)\n",
    "    fl.Close()\n",
    "    return energy, vcs, energyErr, vcsErr"
   ]
  },
  {
   "cell_type": "markdown",
   "id": "cd09de06",
   "metadata": {},
   "source": [
    "Function for obtaining numerical solution:"
   ]
  },
  {
   "cell_type": "code",
   "execution_count": null,
   "id": "c3b8ea86",
   "metadata": {},
   "outputs": [],
   "source": [
    "def solve(energy, vcs, energyErr, vcsErr, \n",
    "          enabled_energy_spread=False, \n",
    "          threshold_energy=0.827, \n",
    "          interp=None,\n",
    "          efficiency=lambda x, en: 1.0):\n",
    "    n = energy.shape[0]\n",
    "    solver = ISRSolverSLE(n, energy, vcs, \n",
    "                          energyErr, vcsErr, \n",
    "                          threshold_energy, efficiency,\n",
    "                          enabled_energy_spread)\n",
    "    if type(interp) == str:\n",
    "        with open(interp, 'r') as jfl:\n",
    "            settings = json.load(jfl)\n",
    "        \n",
    "        print('Interpolation settings:')\n",
    "        print(settings)\n",
    "        solver.set_interp_settings(settings)\n",
    "    elif type(interp) == list:\n",
    "        print('Interpolation settings:')\n",
    "        print(interp)\n",
    "        solver.set_interp_settings(interp)\n",
    "    \n",
    "    solver.solve()\n",
    "    return solver"
   ]
  },
  {
   "cell_type": "markdown",
   "id": "2992d8cc",
   "metadata": {},
   "source": [
    "Function for cross section plotting:"
   ]
  },
  {
   "cell_type": "code",
   "execution_count": null,
   "id": "79d213b2",
   "metadata": {},
   "outputs": [],
   "source": [
    "def csPlot(solver, title='Cross sections', fontsize=24):\n",
    "    # Getting c.m. energy array\n",
    "    ecm = solver.ecm()\n",
    "    matplotlib.rcParams.update(mplStyleParams)\n",
    "    f, (ax0, ax1) = plt.subplots(2, 1, gridspec_kw={'height_ratios': [3, 1]}, sharex=True,\n",
    "                                figsize=(9, 10))\n",
    "    f.suptitle(title, fontsize=fontsize)\n",
    "    ax1.tick_params(axis='both', which='major', labelsize=fontsize)\n",
    "    ecm_dense = np.linspace(np.min(ecm), np.max(ecm), ecm.shape[0] * 20)\n",
    "    interp = np.vectorize(lambda en: solver.interp_eval(en))(ecm_dense)\n",
    "    ax0.errorbar(ecm, solver.vcs(), \n",
    "                xerr=solver.ecm_err(),\n",
    "                yerr=solver.vcs_err(), fmt='o',\n",
    "                markersize=5, capsize=3,\n",
    "                label='Visible cross section', zorder=0)\n",
    "    bcs_err = yerr=np.sqrt(np.diag(solver.bcs_cov_matrix()))\n",
    "    ax0.errorbar(ecm, solver.bcs(), yerr=bcs_err, fmt='o',\n",
    "                 markersize=5, capsize=3,\n",
    "                label='Born cross section', zorder=1)\n",
    "    ax0.plot(ecm_dense, interp, 'b--', label='Interpolation of the Born cross section', zorder=2)\n",
    "    ax0.plot(ecm_dense, mBCsVFcn(ecm_dense), 'r-', label='Model Born cross section', zorder=3)\n",
    "    mBCs_at_ecm =  mBCsVFcn(ecm)\n",
    "    ax1.errorbar(ecm, solver.bcs() / mBCs_at_ecm, yerr=bcs_err / mBCs_at_ecm, fmt='o',\n",
    "                 markersize=5, capsize=3,\n",
    "                 label=r'Ratio $\\frac{\\sigma_{\\rm B}}{\\sigma^{\\rm model}_{\\rm B}}$',\n",
    "            zorder=0)\n",
    "    ax1.set_xlabel(r'$\\sqrt{s}$ (GeV)', fontsize=fontsize)\n",
    "    ax0.set_ylabel('cross section (nb)', fontsize=fontsize)\n",
    "    ax0.legend(fontsize=fontsize, bbox_to_anchor=(1.05, 1))"
   ]
  },
  {
   "cell_type": "markdown",
   "id": "b84a2186",
   "metadata": {},
   "source": [
    "Function for plotting matrices:"
   ]
  },
  {
   "cell_type": "code",
   "execution_count": null,
   "id": "fea6c73e",
   "metadata": {},
   "outputs": [],
   "source": [
    "def matrixPlot(mx, title='', fontsize=24, fontscale=2.0):\n",
    "    sns.set(font_scale=fontscale)\n",
    "    f, ax = plt.subplots(figsize=(9, 7))\n",
    "    f.suptitle(title, fontsize=fontsize)\n",
    "    ax.tick_params(axis='both', which='major', labelsize=fontsize)\n",
    "    sns.heatmap(mx, ax=ax, square=True)"
   ]
  },
  {
   "cell_type": "code",
   "execution_count": null,
   "id": "c0f32547",
   "metadata": {},
   "outputs": [],
   "source": [
    "input_path = 'data/gen_visible_cs_etapipi_simple_model_no_energy_spread_efficiency10MeV.root'\n",
    "fl = TFile.Open(input_path, 'read')\n",
    "eff_data = fl.Get('efficiency').Clone()\n",
    "fl.Close()"
   ]
  },
  {
   "cell_type": "code",
   "execution_count": null,
   "id": "1d69ca30",
   "metadata": {},
   "outputs": [],
   "source": [
    "def eval_eff(x, ecm):\n",
    "    tbin = eff_data.FindFixBin(x, ecm)\n",
    "    return eff_data.GetEfficiency(tbin)"
   ]
  },
  {
   "cell_type": "code",
   "execution_count": null,
   "id": "ce4da6a0",
   "metadata": {},
   "outputs": [],
   "source": [
    "vx = np.linspace(0, 0.03, 1000)\n",
    "vecm = np.linspace(1.18, 2.0, 1000)\n",
    "mx = np.array([])\n",
    "mecm = np.array([])\n",
    "meff = np.array([])"
   ]
  },
  {
   "cell_type": "code",
   "execution_count": null,
   "id": "9974334b",
   "metadata": {},
   "outputs": [],
   "source": [
    "effVFcn = np.vectorize(lambda x, ecm: eval_eff(x, ecm))\n",
    "for x in vx:\n",
    "    meff = np.hstack((meff, effVFcn(x, vecm)))\n",
    "    mecm = np.hstack((mecm, vecm))\n",
    "    mx = np.hstack((mx, x * np.ones(vecm.shape)))\n",
    "    \n",
    "q = pd.DataFrame.from_dict(np.array([mx,mecm,meff]).T)\n",
    "q.columns = ['x', 'en', 'eff']\n",
    "q['x'] = pd.to_numeric(q['x'])\n",
    "q['en'] = pd.to_numeric(q['en'])\n",
    "q['eff'] = pd.to_numeric(q['eff'])"
   ]
  },
  {
   "cell_type": "code",
   "execution_count": null,
   "id": "352d70a1",
   "metadata": {},
   "outputs": [],
   "source": [
    "eff_xymap = q.pivot_table(index='x', columns='en', values='eff')\n",
    "eff_xymap"
   ]
  },
  {
   "cell_type": "code",
   "execution_count": null,
   "id": "d0ac38d0",
   "metadata": {},
   "outputs": [],
   "source": [
    "f, ax = plt.subplots(figsize=(10, 9))\n",
    "fontsize=24\n",
    "sns.set(font_scale=2)\n",
    "plot = sns.heatmap(eff_xymap, rasterized=True, square=True, ax=ax)\n",
    "ax.set_xticklabels(['{:.3f}'.format(float(t.get_text())) for t in ax.get_xticklabels()])\n",
    "ax.set_yticklabels(['{:.3f}'.format(float(t.get_text())) for t in ax.get_yticklabels()])\n",
    "ax.set_xlabel(r'$\\sqrt{s}$ (GeV)', fontsize=fontsize)\n",
    "ax.set_ylabel(r'$x$', fontsize=fontsize)\n",
    "plt.gcf().subplots_adjust(left=0.15, bottom=0.25)"
   ]
  },
  {
   "cell_type": "markdown",
   "id": "25b46fe8",
   "metadata": {},
   "source": [
    "## No c.m. energy spread: $\\sigma_E(s)=0\\text{ MeV}$, piecewise linear interpolation"
   ]
  },
  {
   "cell_type": "code",
   "execution_count": null,
   "id": "34362fdd",
   "metadata": {},
   "outputs": [],
   "source": [
    "solver = solve(*readVCS(input_path), efficiency=eval_eff)\n",
    "print('Condition number: {}'.format(solver.condnum_eval()))\n",
    "csPlot(solver)\n",
    "matrixPlot(solver.intop_matrix(), title=r'Matrix of the system of linear equations, $\\hat{\\mathcal{F}}$')\n",
    "matrixPlot(solver.bcs_cov_matrix(), title=r'Covariance matrix of the Born cross section')\n",
    "matrixPlot(solver.bcs_inv_cov_matrix(), title=r'Inverse covariance matrix of the Born cross section')"
   ]
  }
 ],
 "metadata": {
  "kernelspec": {
   "display_name": "Python 3 (ipykernel)",
   "language": "python",
   "name": "python3"
  },
  "language_info": {
   "codemirror_mode": {
    "name": "ipython",
    "version": 3
   },
   "file_extension": ".py",
   "mimetype": "text/x-python",
   "name": "python",
   "nbconvert_exporter": "python",
   "pygments_lexer": "ipython3",
   "version": "3.9.6"
  }
 },
 "nbformat": 4,
 "nbformat_minor": 5
}
